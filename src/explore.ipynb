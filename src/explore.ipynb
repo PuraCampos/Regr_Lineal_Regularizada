{
 "cells": [
  {
   "cell_type": "markdown",
   "metadata": {},
   "source": [
    "# Explore here"
   ]
  },
  {
   "cell_type": "markdown",
   "metadata": {},
   "source": [
    "Se han recopilado datos socio demográficos y de recursos de salud por condado en los Estados Unidos y queremos descubrir si existe alguna relación entre los recursos sanitarios y los datos socio demográficos."
   ]
  },
  {
   "cell_type": "code",
   "execution_count": 124,
   "metadata": {},
   "outputs": [],
   "source": [
    "# Libreria:\n",
    "import pandas as pd\n",
    "from scipy.stats import zscore\n"
   ]
  },
  {
   "cell_type": "code",
   "execution_count": 125,
   "metadata": {},
   "outputs": [
    {
     "data": {
      "text/html": [
       "<div>\n",
       "<style scoped>\n",
       "    .dataframe tbody tr th:only-of-type {\n",
       "        vertical-align: middle;\n",
       "    }\n",
       "\n",
       "    .dataframe tbody tr th {\n",
       "        vertical-align: top;\n",
       "    }\n",
       "\n",
       "    .dataframe thead th {\n",
       "        text-align: right;\n",
       "    }\n",
       "</style>\n",
       "<table border=\"1\" class=\"dataframe\">\n",
       "  <thead>\n",
       "    <tr style=\"text-align: right;\">\n",
       "      <th></th>\n",
       "      <th>fips</th>\n",
       "      <th>TOT_POP</th>\n",
       "      <th>0-9</th>\n",
       "      <th>0-9 y/o % of total pop</th>\n",
       "      <th>19-Oct</th>\n",
       "      <th>10-19 y/o % of total pop</th>\n",
       "      <th>20-29</th>\n",
       "      <th>20-29 y/o % of total pop</th>\n",
       "      <th>30-39</th>\n",
       "      <th>30-39 y/o % of total pop</th>\n",
       "      <th>...</th>\n",
       "      <th>COPD_number</th>\n",
       "      <th>diabetes_prevalence</th>\n",
       "      <th>diabetes_Lower 95% CI</th>\n",
       "      <th>diabetes_Upper 95% CI</th>\n",
       "      <th>diabetes_number</th>\n",
       "      <th>CKD_prevalence</th>\n",
       "      <th>CKD_Lower 95% CI</th>\n",
       "      <th>CKD_Upper 95% CI</th>\n",
       "      <th>CKD_number</th>\n",
       "      <th>Urban_rural_code</th>\n",
       "    </tr>\n",
       "  </thead>\n",
       "  <tbody>\n",
       "    <tr>\n",
       "      <th>0</th>\n",
       "      <td>1001</td>\n",
       "      <td>55601</td>\n",
       "      <td>6787</td>\n",
       "      <td>12.206615</td>\n",
       "      <td>7637</td>\n",
       "      <td>13.735364</td>\n",
       "      <td>6878</td>\n",
       "      <td>12.370281</td>\n",
       "      <td>7089</td>\n",
       "      <td>12.749771</td>\n",
       "      <td>...</td>\n",
       "      <td>3644</td>\n",
       "      <td>12.9</td>\n",
       "      <td>11.9</td>\n",
       "      <td>13.8</td>\n",
       "      <td>5462</td>\n",
       "      <td>3.1</td>\n",
       "      <td>2.9</td>\n",
       "      <td>3.3</td>\n",
       "      <td>1326</td>\n",
       "      <td>3</td>\n",
       "    </tr>\n",
       "    <tr>\n",
       "      <th>1</th>\n",
       "      <td>1003</td>\n",
       "      <td>218022</td>\n",
       "      <td>24757</td>\n",
       "      <td>11.355276</td>\n",
       "      <td>26913</td>\n",
       "      <td>12.344167</td>\n",
       "      <td>23579</td>\n",
       "      <td>10.814964</td>\n",
       "      <td>25213</td>\n",
       "      <td>11.564429</td>\n",
       "      <td>...</td>\n",
       "      <td>14692</td>\n",
       "      <td>12.0</td>\n",
       "      <td>11.0</td>\n",
       "      <td>13.1</td>\n",
       "      <td>20520</td>\n",
       "      <td>3.2</td>\n",
       "      <td>3.0</td>\n",
       "      <td>3.5</td>\n",
       "      <td>5479</td>\n",
       "      <td>4</td>\n",
       "    </tr>\n",
       "    <tr>\n",
       "      <th>2</th>\n",
       "      <td>1005</td>\n",
       "      <td>24881</td>\n",
       "      <td>2732</td>\n",
       "      <td>10.980266</td>\n",
       "      <td>2960</td>\n",
       "      <td>11.896628</td>\n",
       "      <td>3268</td>\n",
       "      <td>13.134520</td>\n",
       "      <td>3201</td>\n",
       "      <td>12.865239</td>\n",
       "      <td>...</td>\n",
       "      <td>2373</td>\n",
       "      <td>19.7</td>\n",
       "      <td>18.6</td>\n",
       "      <td>20.6</td>\n",
       "      <td>3870</td>\n",
       "      <td>4.5</td>\n",
       "      <td>4.2</td>\n",
       "      <td>4.8</td>\n",
       "      <td>887</td>\n",
       "      <td>6</td>\n",
       "    </tr>\n",
       "    <tr>\n",
       "      <th>3</th>\n",
       "      <td>1007</td>\n",
       "      <td>22400</td>\n",
       "      <td>2456</td>\n",
       "      <td>10.964286</td>\n",
       "      <td>2596</td>\n",
       "      <td>11.589286</td>\n",
       "      <td>3029</td>\n",
       "      <td>13.522321</td>\n",
       "      <td>3113</td>\n",
       "      <td>13.897321</td>\n",
       "      <td>...</td>\n",
       "      <td>1789</td>\n",
       "      <td>14.1</td>\n",
       "      <td>13.2</td>\n",
       "      <td>14.9</td>\n",
       "      <td>2511</td>\n",
       "      <td>3.3</td>\n",
       "      <td>3.1</td>\n",
       "      <td>3.6</td>\n",
       "      <td>595</td>\n",
       "      <td>2</td>\n",
       "    </tr>\n",
       "    <tr>\n",
       "      <th>4</th>\n",
       "      <td>1009</td>\n",
       "      <td>57840</td>\n",
       "      <td>7095</td>\n",
       "      <td>12.266598</td>\n",
       "      <td>7570</td>\n",
       "      <td>13.087828</td>\n",
       "      <td>6742</td>\n",
       "      <td>11.656293</td>\n",
       "      <td>6884</td>\n",
       "      <td>11.901798</td>\n",
       "      <td>...</td>\n",
       "      <td>4661</td>\n",
       "      <td>13.5</td>\n",
       "      <td>12.6</td>\n",
       "      <td>14.5</td>\n",
       "      <td>6017</td>\n",
       "      <td>3.4</td>\n",
       "      <td>3.2</td>\n",
       "      <td>3.7</td>\n",
       "      <td>1507</td>\n",
       "      <td>2</td>\n",
       "    </tr>\n",
       "  </tbody>\n",
       "</table>\n",
       "<p>5 rows × 108 columns</p>\n",
       "</div>"
      ],
      "text/plain": [
       "   fips  TOT_POP    0-9  0-9 y/o % of total pop  19-Oct  \\\n",
       "0  1001    55601   6787               12.206615    7637   \n",
       "1  1003   218022  24757               11.355276   26913   \n",
       "2  1005    24881   2732               10.980266    2960   \n",
       "3  1007    22400   2456               10.964286    2596   \n",
       "4  1009    57840   7095               12.266598    7570   \n",
       "\n",
       "   10-19 y/o % of total pop  20-29  20-29 y/o % of total pop  30-39  \\\n",
       "0                 13.735364   6878                 12.370281   7089   \n",
       "1                 12.344167  23579                 10.814964  25213   \n",
       "2                 11.896628   3268                 13.134520   3201   \n",
       "3                 11.589286   3029                 13.522321   3113   \n",
       "4                 13.087828   6742                 11.656293   6884   \n",
       "\n",
       "   30-39 y/o % of total pop  ...  COPD_number  diabetes_prevalence  \\\n",
       "0                 12.749771  ...         3644                 12.9   \n",
       "1                 11.564429  ...        14692                 12.0   \n",
       "2                 12.865239  ...         2373                 19.7   \n",
       "3                 13.897321  ...         1789                 14.1   \n",
       "4                 11.901798  ...         4661                 13.5   \n",
       "\n",
       "   diabetes_Lower 95% CI  diabetes_Upper 95% CI  diabetes_number  \\\n",
       "0                   11.9                   13.8             5462   \n",
       "1                   11.0                   13.1            20520   \n",
       "2                   18.6                   20.6             3870   \n",
       "3                   13.2                   14.9             2511   \n",
       "4                   12.6                   14.5             6017   \n",
       "\n",
       "   CKD_prevalence  CKD_Lower 95% CI  CKD_Upper 95% CI  CKD_number  \\\n",
       "0             3.1               2.9               3.3        1326   \n",
       "1             3.2               3.0               3.5        5479   \n",
       "2             4.5               4.2               4.8         887   \n",
       "3             3.3               3.1               3.6         595   \n",
       "4             3.4               3.2               3.7        1507   \n",
       "\n",
       "   Urban_rural_code  \n",
       "0                 3  \n",
       "1                 4  \n",
       "2                 6  \n",
       "3                 2  \n",
       "4                 2  \n",
       "\n",
       "[5 rows x 108 columns]"
      ]
     },
     "execution_count": 125,
     "metadata": {},
     "output_type": "execute_result"
    }
   ],
   "source": [
    "total_data=pd.read_csv(\"https://raw.githubusercontent.com/4GeeksAcademy/regularized-linear-regression-project-tutorial/main/demographic_health_data.csv\")\n",
    "total_data.head()"
   ]
  },
  {
   "cell_type": "code",
   "execution_count": 126,
   "metadata": {},
   "outputs": [
    {
     "data": {
      "text/plain": [
       "(3140, 108)"
      ]
     },
     "execution_count": 126,
     "metadata": {},
     "output_type": "execute_result"
    }
   ],
   "source": [
    "total_data.shape"
   ]
  },
  {
   "cell_type": "code",
   "execution_count": 127,
   "metadata": {},
   "outputs": [
    {
     "name": "stdout",
     "output_type": "stream",
     "text": [
      "<class 'pandas.core.frame.DataFrame'>\n",
      "RangeIndex: 3140 entries, 0 to 3139\n",
      "Columns: 108 entries, fips to Urban_rural_code\n",
      "dtypes: float64(61), int64(45), object(2)\n",
      "memory usage: 2.6+ MB\n"
     ]
    }
   ],
   "source": [
    "total_data.info()"
   ]
  },
  {
   "cell_type": "code",
   "execution_count": 128,
   "metadata": {},
   "outputs": [
    {
     "data": {
      "text/plain": [
       "Index(['fips', 'TOT_POP', '0-9', '0-9 y/o % of total pop', '19-Oct',\n",
       "       '10-19 y/o % of total pop', '20-29', '20-29 y/o % of total pop',\n",
       "       '30-39', '30-39 y/o % of total pop',\n",
       "       ...\n",
       "       'COPD_number', 'diabetes_prevalence', 'diabetes_Lower 95% CI',\n",
       "       'diabetes_Upper 95% CI', 'diabetes_number', 'CKD_prevalence',\n",
       "       'CKD_Lower 95% CI', 'CKD_Upper 95% CI', 'CKD_number',\n",
       "       'Urban_rural_code'],\n",
       "      dtype='object', length=108)"
      ]
     },
     "execution_count": 128,
     "metadata": {},
     "output_type": "execute_result"
    }
   ],
   "source": [
    "total_data.columns"
   ]
  },
  {
   "cell_type": "markdown",
   "metadata": {},
   "source": [
    "· Existen un total de 3140 filas de datos y 108 columnas\n",
    "· Target: \"Two or more races pop\"\n",
    "\n",
    "Problematica: ¿Existe alguna relación entre las carácteristicas demográficas y los recursos de salud?\n"
   ]
  },
  {
   "cell_type": "markdown",
   "metadata": {},
   "source": [
    "DUPLICADOS"
   ]
  },
  {
   "cell_type": "code",
   "execution_count": 129,
   "metadata": {},
   "outputs": [
    {
     "data": {
      "text/plain": [
       "np.int64(0)"
      ]
     },
     "execution_count": 129,
     "metadata": {},
     "output_type": "execute_result"
    }
   ],
   "source": [
    "total_data.duplicated().sum()"
   ]
  },
  {
   "cell_type": "markdown",
   "metadata": {},
   "source": [
    "No encontramos duplicados"
   ]
  },
  {
   "cell_type": "markdown",
   "metadata": {},
   "source": [
    "ELIMINAR INFORMACIÓN IRRELEVANTE\n",
    "\n"
   ]
  },
  {
   "cell_type": "code",
   "execution_count": 130,
   "metadata": {},
   "outputs": [
    {
     "name": "stdout",
     "output_type": "stream",
     "text": [
      "fips\n",
      "TOT_POP\n",
      "0-9\n",
      "0-9 y/o % of total pop\n",
      "19-Oct\n",
      "10-19 y/o % of total pop\n",
      "20-29\n",
      "20-29 y/o % of total pop\n",
      "30-39\n",
      "30-39 y/o % of total pop\n",
      "40-49\n",
      "40-49 y/o % of total pop\n",
      "50-59\n",
      "50-59 y/o % of total pop\n",
      "60-69\n",
      "60-69 y/o % of total pop\n",
      "70-79\n",
      "70-79 y/o % of total pop\n",
      "80+\n",
      "80+ y/o % of total pop\n",
      "White-alone pop\n",
      "% White-alone\n",
      "Black-alone pop\n",
      "% Black-alone\n",
      "Native American/American Indian-alone pop\n",
      "% NA/AI-alone\n",
      "Asian-alone pop\n",
      "% Asian-alone\n",
      "Hawaiian/Pacific Islander-alone pop\n",
      "% Hawaiian/PI-alone\n",
      "Two or more races pop\n",
      "% Two or more races\n",
      "POP_ESTIMATE_2018\n",
      "N_POP_CHG_2018\n",
      "GQ_ESTIMATES_2018\n",
      "R_birth_2018\n",
      "R_death_2018\n",
      "R_NATURAL_INC_2018\n",
      "R_INTERNATIONAL_MIG_2018\n",
      "R_DOMESTIC_MIG_2018\n",
      "R_NET_MIG_2018\n",
      "Less than a high school diploma 2014-18\n",
      "High school diploma only 2014-18\n",
      "Some college or associate's degree 2014-18\n",
      "Bachelor's degree or higher 2014-18\n",
      "Percent of adults with less than a high school diploma 2014-18\n",
      "Percent of adults with a high school diploma only 2014-18\n",
      "Percent of adults completing some college or associate's degree 2014-18\n",
      "Percent of adults with a bachelor's degree or higher 2014-18\n",
      "POVALL_2018\n",
      "PCTPOVALL_2018\n",
      "PCTPOV017_2018\n",
      "PCTPOV517_2018\n",
      "MEDHHINC_2018\n",
      "CI90LBINC_2018\n",
      "CI90UBINC_2018\n",
      "Civilian_labor_force_2018\n",
      "Employed_2018\n",
      "Unemployed_2018\n",
      "Unemployment_rate_2018\n",
      "Median_Household_Income_2018\n",
      "Med_HH_Income_Percent_of_State_Total_2018\n",
      "Active Physicians per 100000 Population 2018 (AAMC)\n",
      "Total Active Patient Care Physicians per 100000 Population 2018 (AAMC)\n",
      "Active Primary Care Physicians per 100000 Population 2018 (AAMC)\n",
      "Active Patient Care Primary Care Physicians per 100000 Population 2018 (AAMC)\n",
      "Active General Surgeons per 100000 Population 2018 (AAMC)\n",
      "Active Patient Care General Surgeons per 100000 Population 2018 (AAMC)\n",
      "Total nurse practitioners (2019)\n",
      "Total physician assistants (2019)\n",
      "Total Hospitals (2019)\n",
      "Internal Medicine Primary Care (2019)\n",
      "Family Medicine/General Practice Primary Care (2019)\n",
      "Total Specialist Physicians (2019)\n",
      "ICU Beds_x\n",
      "Total Population\n",
      "Population Aged 60+\n",
      "Percent of Population Aged 60+\n",
      "COUNTY_NAME\n",
      "STATE_NAME\n",
      "STATE_FIPS\n",
      "CNTY_FIPS\n",
      "county_pop2018_18 and older\n",
      "anycondition_prevalence\n",
      "anycondition_Lower 95% CI\n",
      "anycondition_Upper 95% CI\n",
      "anycondition_number\n",
      "Obesity_prevalence\n",
      "Obesity_Lower 95% CI\n",
      "Obesity_Upper 95% CI\n",
      "Obesity_number\n",
      "Heart disease_prevalence\n",
      "Heart disease_Lower 95% CI\n",
      "Heart disease_Upper 95% CI\n",
      "Heart disease_number\n",
      "COPD_prevalence\n",
      "COPD_Lower 95% CI\n",
      "COPD_Upper 95% CI\n",
      "COPD_number\n",
      "diabetes_prevalence\n",
      "diabetes_Lower 95% CI\n",
      "diabetes_Upper 95% CI\n",
      "diabetes_number\n",
      "CKD_prevalence\n",
      "CKD_Lower 95% CI\n",
      "CKD_Upper 95% CI\n",
      "CKD_number\n",
      "Urban_rural_code\n"
     ]
    }
   ],
   "source": [
    "for i in total_data.columns:\n",
    "    print(i)"
   ]
  },
  {
   "cell_type": "code",
   "execution_count": 131,
   "metadata": {},
   "outputs": [
    {
     "data": {
      "text/plain": [
       "(3140, 67)"
      ]
     },
     "execution_count": 131,
     "metadata": {},
     "output_type": "execute_result"
    }
   ],
   "source": [
    "columns=total_data.columns\n",
    "columns_out=[]\n",
    "for i in columns:\n",
    "    if (\"%\" in str(i)):\n",
    "        columns_out.append(i)\n",
    "    elif (\"2014-18\" in str(i)):\n",
    "        columns_out.append(i) \n",
    "    elif (\"R_\" in str(i)):\n",
    "        columns_out.append(i)       \n",
    "total_data.drop(columns_out,axis=1, inplace=True)\n",
    "total_data.shape\n"
   ]
  },
  {
   "cell_type": "code",
   "execution_count": 132,
   "metadata": {},
   "outputs": [],
   "source": [
    "total_data.drop(\"COUNTY_NAME\",axis=1, inplace=True)\n"
   ]
  },
  {
   "cell_type": "markdown",
   "metadata": {},
   "source": [
    "ANÁLISIS DE VARIABLES UNIVARIANTES"
   ]
  },
  {
   "cell_type": "code",
   "execution_count": 133,
   "metadata": {},
   "outputs": [
    {
     "data": {
      "text/html": [
       "<div>\n",
       "<style scoped>\n",
       "    .dataframe tbody tr th:only-of-type {\n",
       "        vertical-align: middle;\n",
       "    }\n",
       "\n",
       "    .dataframe tbody tr th {\n",
       "        vertical-align: top;\n",
       "    }\n",
       "\n",
       "    .dataframe thead th {\n",
       "        text-align: right;\n",
       "    }\n",
       "</style>\n",
       "<table border=\"1\" class=\"dataframe\">\n",
       "  <thead>\n",
       "    <tr style=\"text-align: right;\">\n",
       "      <th></th>\n",
       "      <th>fips</th>\n",
       "      <th>TOT_POP</th>\n",
       "      <th>0-9</th>\n",
       "      <th>19-Oct</th>\n",
       "      <th>20-29</th>\n",
       "      <th>30-39</th>\n",
       "      <th>40-49</th>\n",
       "      <th>50-59</th>\n",
       "      <th>60-69</th>\n",
       "      <th>70-79</th>\n",
       "      <th>...</th>\n",
       "      <th>Obesity_number</th>\n",
       "      <th>Heart disease_prevalence</th>\n",
       "      <th>Heart disease_number</th>\n",
       "      <th>COPD_prevalence</th>\n",
       "      <th>COPD_number</th>\n",
       "      <th>diabetes_prevalence</th>\n",
       "      <th>diabetes_number</th>\n",
       "      <th>CKD_prevalence</th>\n",
       "      <th>CKD_number</th>\n",
       "      <th>Urban_rural_code</th>\n",
       "    </tr>\n",
       "  </thead>\n",
       "  <tbody>\n",
       "    <tr>\n",
       "      <th>count</th>\n",
       "      <td>3140.000000</td>\n",
       "      <td>3.140000e+03</td>\n",
       "      <td>3.140000e+03</td>\n",
       "      <td>3.140000e+03</td>\n",
       "      <td>3.140000e+03</td>\n",
       "      <td>3.140000e+03</td>\n",
       "      <td>3.140000e+03</td>\n",
       "      <td>3.140000e+03</td>\n",
       "      <td>3.140000e+03</td>\n",
       "      <td>3140.000000</td>\n",
       "      <td>...</td>\n",
       "      <td>3.140000e+03</td>\n",
       "      <td>3140.000000</td>\n",
       "      <td>3140.000000</td>\n",
       "      <td>3140.000000</td>\n",
       "      <td>3140.000000</td>\n",
       "      <td>3140.000000</td>\n",
       "      <td>3140.000000</td>\n",
       "      <td>3140.000000</td>\n",
       "      <td>3140.000000</td>\n",
       "      <td>3140.000000</td>\n",
       "    </tr>\n",
       "    <tr>\n",
       "      <th>mean</th>\n",
       "      <td>30401.640764</td>\n",
       "      <td>1.041894e+05</td>\n",
       "      <td>1.274030e+04</td>\n",
       "      <td>1.336798e+04</td>\n",
       "      <td>1.446933e+04</td>\n",
       "      <td>1.391649e+04</td>\n",
       "      <td>1.288521e+04</td>\n",
       "      <td>1.363803e+04</td>\n",
       "      <td>1.191621e+04</td>\n",
       "      <td>7220.310510</td>\n",
       "      <td>...</td>\n",
       "      <td>2.527613e+04</td>\n",
       "      <td>8.607803</td>\n",
       "      <td>5597.593312</td>\n",
       "      <td>9.095223</td>\n",
       "      <td>5827.242357</td>\n",
       "      <td>13.073503</td>\n",
       "      <td>9326.577707</td>\n",
       "      <td>3.446242</td>\n",
       "      <td>2466.234076</td>\n",
       "      <td>4.635350</td>\n",
       "    </tr>\n",
       "    <tr>\n",
       "      <th>std</th>\n",
       "      <td>15150.559265</td>\n",
       "      <td>3.335834e+05</td>\n",
       "      <td>4.180730e+04</td>\n",
       "      <td>4.228439e+04</td>\n",
       "      <td>4.957773e+04</td>\n",
       "      <td>4.899095e+04</td>\n",
       "      <td>4.347219e+04</td>\n",
       "      <td>4.272063e+04</td>\n",
       "      <td>3.451858e+04</td>\n",
       "      <td>20287.498429</td>\n",
       "      <td>...</td>\n",
       "      <td>7.446684e+04</td>\n",
       "      <td>1.758587</td>\n",
       "      <td>15615.285499</td>\n",
       "      <td>2.344965</td>\n",
       "      <td>15720.551934</td>\n",
       "      <td>2.724351</td>\n",
       "      <td>29754.601185</td>\n",
       "      <td>0.568059</td>\n",
       "      <td>7730.422067</td>\n",
       "      <td>1.510447</td>\n",
       "    </tr>\n",
       "    <tr>\n",
       "      <th>min</th>\n",
       "      <td>1001.000000</td>\n",
       "      <td>8.800000e+01</td>\n",
       "      <td>0.000000e+00</td>\n",
       "      <td>0.000000e+00</td>\n",
       "      <td>0.000000e+00</td>\n",
       "      <td>1.100000e+01</td>\n",
       "      <td>4.000000e+00</td>\n",
       "      <td>1.400000e+01</td>\n",
       "      <td>2.000000e+01</td>\n",
       "      <td>6.000000</td>\n",
       "      <td>...</td>\n",
       "      <td>2.500000e+01</td>\n",
       "      <td>3.500000</td>\n",
       "      <td>7.000000</td>\n",
       "      <td>3.500000</td>\n",
       "      <td>7.000000</td>\n",
       "      <td>6.100000</td>\n",
       "      <td>11.000000</td>\n",
       "      <td>1.800000</td>\n",
       "      <td>3.000000</td>\n",
       "      <td>1.000000</td>\n",
       "    </tr>\n",
       "    <tr>\n",
       "      <th>25%</th>\n",
       "      <td>18180.500000</td>\n",
       "      <td>1.096325e+04</td>\n",
       "      <td>1.280500e+03</td>\n",
       "      <td>1.374500e+03</td>\n",
       "      <td>1.263750e+03</td>\n",
       "      <td>1.232750e+03</td>\n",
       "      <td>1.245250e+03</td>\n",
       "      <td>1.483000e+03</td>\n",
       "      <td>1.476500e+03</td>\n",
       "      <td>950.750000</td>\n",
       "      <td>...</td>\n",
       "      <td>3.075000e+03</td>\n",
       "      <td>7.400000</td>\n",
       "      <td>798.500000</td>\n",
       "      <td>7.300000</td>\n",
       "      <td>815.000000</td>\n",
       "      <td>11.200000</td>\n",
       "      <td>1187.750000</td>\n",
       "      <td>3.100000</td>\n",
       "      <td>314.750000</td>\n",
       "      <td>3.000000</td>\n",
       "    </tr>\n",
       "    <tr>\n",
       "      <th>50%</th>\n",
       "      <td>29178.000000</td>\n",
       "      <td>2.580050e+04</td>\n",
       "      <td>3.057000e+03</td>\n",
       "      <td>3.274000e+03</td>\n",
       "      <td>3.108000e+03</td>\n",
       "      <td>3.000500e+03</td>\n",
       "      <td>3.048500e+03</td>\n",
       "      <td>3.515500e+03</td>\n",
       "      <td>3.410000e+03</td>\n",
       "      <td>2177.000000</td>\n",
       "      <td>...</td>\n",
       "      <td>7.182500e+03</td>\n",
       "      <td>8.600000</td>\n",
       "      <td>1814.500000</td>\n",
       "      <td>8.900000</td>\n",
       "      <td>1963.500000</td>\n",
       "      <td>12.800000</td>\n",
       "      <td>2743.000000</td>\n",
       "      <td>3.400000</td>\n",
       "      <td>718.000000</td>\n",
       "      <td>5.000000</td>\n",
       "    </tr>\n",
       "    <tr>\n",
       "      <th>75%</th>\n",
       "      <td>45081.500000</td>\n",
       "      <td>6.791300e+04</td>\n",
       "      <td>8.097000e+03</td>\n",
       "      <td>8.822250e+03</td>\n",
       "      <td>8.976250e+03</td>\n",
       "      <td>8.314250e+03</td>\n",
       "      <td>8.120500e+03</td>\n",
       "      <td>9.157250e+03</td>\n",
       "      <td>8.710500e+03</td>\n",
       "      <td>5574.000000</td>\n",
       "      <td>...</td>\n",
       "      <td>1.854250e+04</td>\n",
       "      <td>9.800000</td>\n",
       "      <td>4376.000000</td>\n",
       "      <td>10.600000</td>\n",
       "      <td>4727.000000</td>\n",
       "      <td>14.800000</td>\n",
       "      <td>6679.250000</td>\n",
       "      <td>3.800000</td>\n",
       "      <td>1776.250000</td>\n",
       "      <td>6.000000</td>\n",
       "    </tr>\n",
       "    <tr>\n",
       "      <th>max</th>\n",
       "      <td>56045.000000</td>\n",
       "      <td>1.010552e+07</td>\n",
       "      <td>1.208253e+06</td>\n",
       "      <td>1.239139e+06</td>\n",
       "      <td>1.557073e+06</td>\n",
       "      <td>1.501844e+06</td>\n",
       "      <td>1.350076e+06</td>\n",
       "      <td>1.306003e+06</td>\n",
       "      <td>1.014325e+06</td>\n",
       "      <td>572530.000000</td>\n",
       "      <td>...</td>\n",
       "      <td>2.097906e+06</td>\n",
       "      <td>15.100000</td>\n",
       "      <td>434790.000000</td>\n",
       "      <td>19.900000</td>\n",
       "      <td>434075.000000</td>\n",
       "      <td>25.600000</td>\n",
       "      <td>952335.000000</td>\n",
       "      <td>6.200000</td>\n",
       "      <td>237766.000000</td>\n",
       "      <td>6.000000</td>\n",
       "    </tr>\n",
       "  </tbody>\n",
       "</table>\n",
       "<p>8 rows × 65 columns</p>\n",
       "</div>"
      ],
      "text/plain": [
       "               fips       TOT_POP           0-9        19-Oct         20-29  \\\n",
       "count   3140.000000  3.140000e+03  3.140000e+03  3.140000e+03  3.140000e+03   \n",
       "mean   30401.640764  1.041894e+05  1.274030e+04  1.336798e+04  1.446933e+04   \n",
       "std    15150.559265  3.335834e+05  4.180730e+04  4.228439e+04  4.957773e+04   \n",
       "min     1001.000000  8.800000e+01  0.000000e+00  0.000000e+00  0.000000e+00   \n",
       "25%    18180.500000  1.096325e+04  1.280500e+03  1.374500e+03  1.263750e+03   \n",
       "50%    29178.000000  2.580050e+04  3.057000e+03  3.274000e+03  3.108000e+03   \n",
       "75%    45081.500000  6.791300e+04  8.097000e+03  8.822250e+03  8.976250e+03   \n",
       "max    56045.000000  1.010552e+07  1.208253e+06  1.239139e+06  1.557073e+06   \n",
       "\n",
       "              30-39         40-49         50-59         60-69          70-79  \\\n",
       "count  3.140000e+03  3.140000e+03  3.140000e+03  3.140000e+03    3140.000000   \n",
       "mean   1.391649e+04  1.288521e+04  1.363803e+04  1.191621e+04    7220.310510   \n",
       "std    4.899095e+04  4.347219e+04  4.272063e+04  3.451858e+04   20287.498429   \n",
       "min    1.100000e+01  4.000000e+00  1.400000e+01  2.000000e+01       6.000000   \n",
       "25%    1.232750e+03  1.245250e+03  1.483000e+03  1.476500e+03     950.750000   \n",
       "50%    3.000500e+03  3.048500e+03  3.515500e+03  3.410000e+03    2177.000000   \n",
       "75%    8.314250e+03  8.120500e+03  9.157250e+03  8.710500e+03    5574.000000   \n",
       "max    1.501844e+06  1.350076e+06  1.306003e+06  1.014325e+06  572530.000000   \n",
       "\n",
       "       ...  Obesity_number  Heart disease_prevalence  Heart disease_number  \\\n",
       "count  ...    3.140000e+03               3140.000000           3140.000000   \n",
       "mean   ...    2.527613e+04                  8.607803           5597.593312   \n",
       "std    ...    7.446684e+04                  1.758587          15615.285499   \n",
       "min    ...    2.500000e+01                  3.500000              7.000000   \n",
       "25%    ...    3.075000e+03                  7.400000            798.500000   \n",
       "50%    ...    7.182500e+03                  8.600000           1814.500000   \n",
       "75%    ...    1.854250e+04                  9.800000           4376.000000   \n",
       "max    ...    2.097906e+06                 15.100000         434790.000000   \n",
       "\n",
       "       COPD_prevalence    COPD_number  diabetes_prevalence  diabetes_number  \\\n",
       "count      3140.000000    3140.000000          3140.000000      3140.000000   \n",
       "mean          9.095223    5827.242357            13.073503      9326.577707   \n",
       "std           2.344965   15720.551934             2.724351     29754.601185   \n",
       "min           3.500000       7.000000             6.100000        11.000000   \n",
       "25%           7.300000     815.000000            11.200000      1187.750000   \n",
       "50%           8.900000    1963.500000            12.800000      2743.000000   \n",
       "75%          10.600000    4727.000000            14.800000      6679.250000   \n",
       "max          19.900000  434075.000000            25.600000    952335.000000   \n",
       "\n",
       "       CKD_prevalence     CKD_number  Urban_rural_code  \n",
       "count     3140.000000    3140.000000       3140.000000  \n",
       "mean         3.446242    2466.234076          4.635350  \n",
       "std          0.568059    7730.422067          1.510447  \n",
       "min          1.800000       3.000000          1.000000  \n",
       "25%          3.100000     314.750000          3.000000  \n",
       "50%          3.400000     718.000000          5.000000  \n",
       "75%          3.800000    1776.250000          6.000000  \n",
       "max          6.200000  237766.000000          6.000000  \n",
       "\n",
       "[8 rows x 65 columns]"
      ]
     },
     "execution_count": 133,
     "metadata": {},
     "output_type": "execute_result"
    }
   ],
   "source": [
    "total_data.describe()"
   ]
  },
  {
   "cell_type": "code",
   "execution_count": 134,
   "metadata": {},
   "outputs": [
    {
     "data": {
      "text/plain": [
       "array([dtype('int64'), dtype('float64'), dtype('O')], dtype=object)"
      ]
     },
     "execution_count": 134,
     "metadata": {},
     "output_type": "execute_result"
    }
   ],
   "source": [
    "total_data.dtypes.unique()"
   ]
  },
  {
   "cell_type": "code",
   "execution_count": 135,
   "metadata": {},
   "outputs": [],
   "source": [
    "num = ['int64','O']\n",
    "cat = ['O']\n",
    "continuas=['float64']\n",
    "\n",
    "df_num = total_data.select_dtypes(num)\n",
    "df_cat = total_data.select_dtypes(cat)\n",
    "df_continuas=total_data.select_dtypes(continuas)"
   ]
  },
  {
   "cell_type": "markdown",
   "metadata": {},
   "source": [
    "VARIABLES CATEGORICAS"
   ]
  },
  {
   "cell_type": "code",
   "execution_count": 136,
   "metadata": {},
   "outputs": [
    {
     "data": {
      "text/plain": [
       "Index(['STATE_NAME'], dtype='object')"
      ]
     },
     "execution_count": 136,
     "metadata": {},
     "output_type": "execute_result"
    }
   ],
   "source": [
    "df_cat.columns"
   ]
  },
  {
   "cell_type": "code",
   "execution_count": 137,
   "metadata": {},
   "outputs": [
    {
     "data": {
      "text/html": [
       "<div>\n",
       "<style scoped>\n",
       "    .dataframe tbody tr th:only-of-type {\n",
       "        vertical-align: middle;\n",
       "    }\n",
       "\n",
       "    .dataframe tbody tr th {\n",
       "        vertical-align: top;\n",
       "    }\n",
       "\n",
       "    .dataframe thead th {\n",
       "        text-align: right;\n",
       "    }\n",
       "</style>\n",
       "<table border=\"1\" class=\"dataframe\">\n",
       "  <thead>\n",
       "    <tr style=\"text-align: right;\">\n",
       "      <th></th>\n",
       "      <th>STATE_NAME</th>\n",
       "    </tr>\n",
       "  </thead>\n",
       "  <tbody>\n",
       "    <tr>\n",
       "      <th>0</th>\n",
       "      <td>Alabama</td>\n",
       "    </tr>\n",
       "    <tr>\n",
       "      <th>1</th>\n",
       "      <td>Alabama</td>\n",
       "    </tr>\n",
       "    <tr>\n",
       "      <th>2</th>\n",
       "      <td>Alabama</td>\n",
       "    </tr>\n",
       "    <tr>\n",
       "      <th>3</th>\n",
       "      <td>Alabama</td>\n",
       "    </tr>\n",
       "    <tr>\n",
       "      <th>4</th>\n",
       "      <td>Alabama</td>\n",
       "    </tr>\n",
       "  </tbody>\n",
       "</table>\n",
       "</div>"
      ],
      "text/plain": [
       "  STATE_NAME\n",
       "0    Alabama\n",
       "1    Alabama\n",
       "2    Alabama\n",
       "3    Alabama\n",
       "4    Alabama"
      ]
     },
     "execution_count": 137,
     "metadata": {},
     "output_type": "execute_result"
    }
   ],
   "source": [
    "df_cat.head()"
   ]
  },
  {
   "cell_type": "code",
   "execution_count": 138,
   "metadata": {},
   "outputs": [
    {
     "data": {
      "image/png": "[encoded data removed]",
      "text/plain": [
       "<Figure size 2000x700 with 1 Axes>"
      ]
     },
     "metadata": {},
     "output_type": "display_data"
    }
   ],
   "source": [
    "import matplotlib.pyplot as plt\n",
    "import seaborn as sns\n",
    "\n",
    "fig, ax = plt.subplots( figsize = (20, 7))\n",
    "\n",
    "sns.countplot(data = df_cat, x = \"STATE_NAME\", order=df_cat[\"STATE_NAME\"].value_counts().index, hue=\"STATE_NAME\")\n",
    "\n",
    "plt.show()"
   ]
  },
  {
   "cell_type": "markdown",
   "metadata": {},
   "source": [
    "VARIABLES NUMÉRICAS"
   ]
  },
  {
   "cell_type": "code",
   "execution_count": 139,
   "metadata": {},
   "outputs": [
    {
     "data": {
      "text/plain": [
       "Index(['fips', 'TOT_POP', '0-9', '19-Oct', '20-29', '30-39', '40-49', '50-59',\n",
       "       '60-69', '70-79', '80+', 'White-alone pop', 'Black-alone pop',\n",
       "       'Native American/American Indian-alone pop', 'Asian-alone pop',\n",
       "       'Hawaiian/Pacific Islander-alone pop', 'Two or more races pop',\n",
       "       'POP_ESTIMATE_2018', 'N_POP_CHG_2018', 'GQ_ESTIMATES_2018',\n",
       "       'POVALL_2018', 'MEDHHINC_2018', 'CI90LBINC_2018', 'CI90UBINC_2018',\n",
       "       'Civilian_labor_force_2018', 'Employed_2018', 'Unemployed_2018',\n",
       "       'Median_Household_Income_2018', 'ICU Beds_x', 'Total Population',\n",
       "       'Population Aged 60+', 'STATE_NAME', 'STATE_FIPS', 'CNTY_FIPS',\n",
       "       'county_pop2018_18 and older', 'anycondition_number', 'Obesity_number',\n",
       "       'Heart disease_number', 'COPD_number', 'diabetes_number', 'CKD_number',\n",
       "       'Urban_rural_code'],\n",
       "      dtype='object')"
      ]
     },
     "execution_count": 139,
     "metadata": {},
     "output_type": "execute_result"
    }
   ],
   "source": [
    "df_num.columns"
   ]
  },
  {
   "cell_type": "code",
   "execution_count": 140,
   "metadata": {},
   "outputs": [
    {
     "data": {
      "text/html": [
       "<div>\n",
       "<style scoped>\n",
       "    .dataframe tbody tr th:only-of-type {\n",
       "        vertical-align: middle;\n",
       "    }\n",
       "\n",
       "    .dataframe tbody tr th {\n",
       "        vertical-align: top;\n",
       "    }\n",
       "\n",
       "    .dataframe thead th {\n",
       "        text-align: right;\n",
       "    }\n",
       "</style>\n",
       "<table border=\"1\" class=\"dataframe\">\n",
       "  <thead>\n",
       "    <tr style=\"text-align: right;\">\n",
       "      <th></th>\n",
       "      <th>Heart disease_number</th>\n",
       "      <th>diabetes_number</th>\n",
       "      <th>0-9</th>\n",
       "      <th>50-59</th>\n",
       "      <th>80+</th>\n",
       "      <th>Unemployed_2018</th>\n",
       "      <th>Obesity_number</th>\n",
       "      <th>Two or more races pop</th>\n",
       "    </tr>\n",
       "  </thead>\n",
       "  <tbody>\n",
       "    <tr>\n",
       "      <th>0</th>\n",
       "      <td>3345</td>\n",
       "      <td>5462</td>\n",
       "      <td>6787</td>\n",
       "      <td>7738</td>\n",
       "      <td>2014</td>\n",
       "      <td>942</td>\n",
       "      <td>15193</td>\n",
       "      <td>1016</td>\n",
       "    </tr>\n",
       "    <tr>\n",
       "      <th>1</th>\n",
       "      <td>13414</td>\n",
       "      <td>20520</td>\n",
       "      <td>24757</td>\n",
       "      <td>29986</td>\n",
       "      <td>9368</td>\n",
       "      <td>3393</td>\n",
       "      <td>50761</td>\n",
       "      <td>3891</td>\n",
       "    </tr>\n",
       "    <tr>\n",
       "      <th>2</th>\n",
       "      <td>2159</td>\n",
       "      <td>3870</td>\n",
       "      <td>2732</td>\n",
       "      <td>3278</td>\n",
       "      <td>1048</td>\n",
       "      <td>433</td>\n",
       "      <td>8013</td>\n",
       "      <td>307</td>\n",
       "    </tr>\n",
       "    <tr>\n",
       "      <th>3</th>\n",
       "      <td>1533</td>\n",
       "      <td>2511</td>\n",
       "      <td>2456</td>\n",
       "      <td>3115</td>\n",
       "      <td>785</td>\n",
       "      <td>344</td>\n",
       "      <td>6894</td>\n",
       "      <td>242</td>\n",
       "    </tr>\n",
       "    <tr>\n",
       "      <th>4</th>\n",
       "      <td>4101</td>\n",
       "      <td>6017</td>\n",
       "      <td>7095</td>\n",
       "      <td>7844</td>\n",
       "      <td>2335</td>\n",
       "      <td>878</td>\n",
       "      <td>15112</td>\n",
       "      <td>801</td>\n",
       "    </tr>\n",
       "  </tbody>\n",
       "</table>\n",
       "</div>"
      ],
      "text/plain": [
       "   Heart disease_number  diabetes_number    0-9  50-59   80+  Unemployed_2018  \\\n",
       "0                  3345             5462   6787   7738  2014              942   \n",
       "1                 13414            20520  24757  29986  9368             3393   \n",
       "2                  2159             3870   2732   3278  1048              433   \n",
       "3                  1533             2511   2456   3115   785              344   \n",
       "4                  4101             6017   7095   7844  2335              878   \n",
       "\n",
       "   Obesity_number  Two or more races pop  \n",
       "0           15193                   1016  \n",
       "1           50761                   3891  \n",
       "2            8013                    307  \n",
       "3            6894                    242  \n",
       "4           15112                    801  "
      ]
     },
     "execution_count": 140,
     "metadata": {},
     "output_type": "execute_result"
    }
   ],
   "source": [
    "df_num[['Heart disease_number','diabetes_number','0-9','50-59','80+','Unemployed_2018','Obesity_number','Two or more races pop']].head()"
   ]
  },
  {
   "cell_type": "code",
   "execution_count": 150,
   "metadata": {},
   "outputs": [
    {
     "data": {
      "image/png": "[encoded data removed]",
      "text/plain": [
       "<Figure size 1000x1400 with 16 Axes>"
      ]
     },
     "metadata": {},
     "output_type": "display_data"
    }
   ],
   "source": [
    "fig, ax = plt.subplots(8, 2, figsize=(10, 14), gridspec_kw={'height_ratios': [6, 1, 6, 1, 6, 1, 6, 1]})\n",
    "\n",
    "# Charts first row \n",
    "sns.histplot(ax = ax[0,0], data = df_num, x='Heart disease_number').set(ylabel = None)\n",
    "sns.boxplot(ax = ax[1,0], data = df_num, x='Heart disease_number')\n",
    "sns.histplot(ax = ax[0,1], data = df_num, x='diabetes_number').set(ylabel = None)\n",
    "sns.boxplot(ax = ax[1,1], data = df_num, x='diabetes_number')\n",
    "\n",
    "# Charts second row \n",
    "sns.histplot(ax = ax[2,0], data = df_num, x='0-9').set(ylabel = None)\n",
    "sns.boxplot(ax = ax[3,0], data = df_num, x='0-9')\n",
    "sns.histplot(ax = ax[2,1], data = df_num, x='50-59').set(ylabel = None)\n",
    "sns.boxplot(ax = ax[3,1], data = df_num, x='50-59')\n",
    "\n",
    "# Charts third row \n",
    "sns.histplot(ax = ax[4,0], data = df_num, x='80+').set(ylabel = None)\n",
    "sns.boxplot(ax = ax[5,0], data = df_num, x='80+')\n",
    "sns.histplot(ax = ax[4,1], data = df_num, x='Unemployed_2018').set(ylabel = None)\n",
    "sns.boxplot(ax = ax[5,1], data = df_num, x='Unemployed_2018')\n",
    "\n",
    "# Charts last row \n",
    "sns.histplot(ax = ax[6,0], data = df_num, x='Obesity_number').set(ylabel = None)\n",
    "sns.boxplot(ax = ax[7,0], data = df_num, x='Obesity_number')\n",
    "sns.histplot(ax = ax[6,1], data = df_num, x='Two or more races pop').set(ylabel = None)\n",
    "sns.boxplot(ax = ax[7,1], data = df_num, x='Two or more races pop')\n",
    "\n",
    "plt.tight_layout()\n",
    "plt.show()"
   ]
  },
  {
   "cell_type": "markdown",
   "metadata": {},
   "source": [
    "VARIABLES CONTINUAS"
   ]
  },
  {
   "cell_type": "code",
   "execution_count": null,
   "metadata": {},
   "outputs": [
    {
     "data": {
      "text/plain": [
       "Index(['PCTPOVALL_2018', 'PCTPOV017_2018', 'PCTPOV517_2018',\n",
       "       'Unemployment_rate_2018', 'Med_HH_Income_Percent_of_State_Total_2018',\n",
       "       'Active Physicians per 100000 Population 2018 (AAMC)',\n",
       "       'Total Active Patient Care Physicians per 100000 Population 2018 (AAMC)',\n",
       "       'Active Primary Care Physicians per 100000 Population 2018 (AAMC)',\n",
       "       'Active Patient Care Primary Care Physicians per 100000 Population 2018 (AAMC)',\n",
       "       'Active General Surgeons per 100000 Population 2018 (AAMC)',\n",
       "       'Active Patient Care General Surgeons per 100000 Population 2018 (AAMC)',\n",
       "       'Total nurse practitioners (2019)', 'Total physician assistants (2019)',\n",
       "       'Total Hospitals (2019)', 'Internal Medicine Primary Care (2019)',\n",
       "       'Family Medicine/General Practice Primary Care (2019)',\n",
       "       'Total Specialist Physicians (2019)', 'Percent of Population Aged 60+',\n",
       "       'anycondition_prevalence', 'Obesity_prevalence',\n",
       "       'Heart disease_prevalence', 'COPD_prevalence', 'diabetes_prevalence',\n",
       "       'CKD_prevalence'],\n",
       "      dtype='object')"
      ]
     },
     "metadata": {},
     "output_type": "display_data"
    }
   ],
   "source": [
    "df_continuas.columns\n"
   ]
  },
  {
   "cell_type": "code",
   "execution_count": null,
   "metadata": {},
   "outputs": [],
   "source": []
  }
 ],
 "metadata": {
  "kernelspec": {
   "display_name": "Python 3",
   "language": "python",
   "name": "python3"
  },
  "language_info": {
   "codemirror_mode": {
    "name": "ipython",
    "version": 3
   },
   "file_extension": ".py",
   "mimetype": "text/x-python",
   "name": "python",
   "nbconvert_exporter": "python",
   "pygments_lexer": "ipython3",
   "version": "3.10.12"
  },
  "orig_nbformat": 4
 },
 "nbformat": 4,
 "nbformat_minor": 2
}
